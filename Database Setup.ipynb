{
 "cells": [
  {
   "cell_type": "markdown",
   "id": "31073eca",
   "metadata": {},
   "source": [
    "# Database Setup and Data Input through Python"
   ]
  },
  {
   "cell_type": "code",
   "execution_count": 1,
   "id": "e5ccaa6b",
   "metadata": {},
   "outputs": [],
   "source": [
    "# Import MySQL Connector/Python \n",
    "import mysql.connector as connector\n",
    "\n",
    "connection=connector.connect(user=\"meta_mario\",password=\"abcd1234\")"
   ]
  },
  {
   "cell_type": "code",
   "execution_count": 2,
   "id": "8c497372",
   "metadata": {},
   "outputs": [],
   "source": [
    "cursor = connection.cursor()"
   ]
  },
  {
   "cell_type": "code",
   "execution_count": 3,
   "id": "299dae67",
   "metadata": {},
   "outputs": [],
   "source": [
    "cursor.execute(\"CREATE DATABASE little_lemon_db\") "
   ]
  },
  {
   "cell_type": "code",
   "execution_count": 4,
   "id": "09790abe",
   "metadata": {},
   "outputs": [],
   "source": [
    "cursor.execute(\"USE little_lemon_db\")"
   ]
  },
  {
   "cell_type": "code",
   "execution_count": 13,
   "id": "9bf0d4f0",
   "metadata": {},
   "outputs": [],
   "source": [
    "#MenuItems table\n",
    "create_menuitem_table = \"\"\"CREATE TABLE MenuItems (\n",
    "ItemID INT AUTO_INCREMENT,\n",
    "Name VARCHAR(200),\n",
    "Type VARCHAR(100),\n",
    "Price INT,\n",
    "PRIMARY KEY (ItemID)\n",
    ");\"\"\""
   ]
  },
  {
   "cell_type": "code",
   "execution_count": 14,
   "id": "2311b44a",
   "metadata": {},
   "outputs": [],
   "source": [
    "create_menu_table = \"\"\"CREATE TABLE Menus (\n",
    "MenuID INT,\n",
    "ItemID INT,\n",
    "Cuisine VARCHAR(100),\n",
    "PRIMARY KEY (MenuID,ItemID)\n",
    ");\"\"\""
   ]
  },
  {
   "cell_type": "code",
   "execution_count": 15,
   "id": "89a7bc67",
   "metadata": {},
   "outputs": [],
   "source": [
    "Create_booking_table = \"\"\"CREATE TABLE Bookings (\n",
    "BookingID INT AUTO_INCREMENT,\n",
    "TableNo INT,\n",
    "GuestFirstName VARCHAR(100) NOT NULL,\n",
    "GuestLastName VARCHAR(100) NOT NULL,\n",
    "Status VARCHAR(100),\n",
    "BookingSlot TIME NOT NULL,\n",
    "EmployeeID INT,\n",
    "PRIMARY KEY (BookingID)\n",
    ");\"\"\""
   ]
  },
  {
   "cell_type": "code",
   "execution_count": 16,
   "id": "0fc558df",
   "metadata": {},
   "outputs": [],
   "source": [
    "create_orders_table = \"\"\"CREATE TABLE Orders (\n",
    "OrderID INT,\n",
    "TableNo INT,\n",
    "MenuID INT,\n",
    "BookingID INT,\n",
    "BillAmount INT,\n",
    "Quantity INT,\n",
    "PRIMARY KEY (OrderID,TableNo)\n",
    ");\"\"\""
   ]
  },
  {
   "cell_type": "code",
   "execution_count": 17,
   "id": "c7bc9eb4",
   "metadata": {},
   "outputs": [],
   "source": [
    "create_employees_table = \"\"\"CREATE TABLE Employees (\n",
    "EmployeeID INT AUTO_INCREMENT PRIMARY KEY,\n",
    "Name VARCHAR (255),\n",
    "Role VARCHAR (100),\n",
    "Address VARCHAR (255),\n",
    "Contact_Number INT,\n",
    "Email VARCHAR (255),\n",
    "Annual_Salary VARCHAR (100)\n",
    ");\"\"\""
   ]
  },
  {
   "cell_type": "code",
   "execution_count": 19,
   "id": "a1e7012e",
   "metadata": {},
   "outputs": [],
   "source": [
    "\n",
    "\n",
    "# Create Bookings table\n",
    "cursor.execute(Create_booking_table)\n",
    "\n",
    "# Create Orders table\n",
    "cursor.execute(create_orders_table)\n",
    "\n",
    "# Create Employees table\n",
    "cursor.execute(create_employees_table)"
   ]
  },
  {
   "cell_type": "code",
   "execution_count": 20,
   "id": "cfa08e56",
   "metadata": {},
   "outputs": [],
   "source": [
    "#*******************************************************#\n",
    "# Insert query to populate \"MenuItems\" table:\n",
    "#*******************************************************#\n",
    "insert_menuitems=\"\"\"\n",
    "INSERT INTO MenuItems (ItemID, Name, Type, Price)\n",
    "VALUES\n",
    "(1, 'Olives','Starters',5),\n",
    "(2, 'Flatbread','Starters', 5),\n",
    "(3, 'Minestrone', 'Starters', 8),\n",
    "(4, 'Tomato bread','Starters', 8),\n",
    "(5, 'Falafel', 'Starters', 7),\n",
    "(6, 'Hummus', 'Starters', 5),\n",
    "(7, 'Greek salad', 'Main Courses', 15),\n",
    "(8, 'Bean soup', 'Main Courses', 12),\n",
    "(9, 'Pizza', 'Main Courses', 15),\n",
    "(10, 'Greek yoghurt','Desserts', 7),\n",
    "(11, 'Ice cream', 'Desserts', 6),\n",
    "(12, 'Cheesecake', 'Desserts', 4),\n",
    "(13, 'Athens White wine', 'Drinks', 25),\n",
    "(14, 'Corfu Red Wine', 'Drinks', 30),\n",
    "(15, 'Turkish Coffee', 'Drinks', 10),\n",
    "(16, 'Turkish Coffee', 'Drinks', 10),\n",
    "(17, 'Kabasa', 'Main Courses', 17);\"\"\"\n",
    "\n",
    "#*******************************************************#\n",
    "# Insert query to populate \"Menu\" table:\n",
    "#*******************************************************#\n",
    "insert_menu=\"\"\"\n",
    "INSERT INTO Menus (MenuID,ItemID,Cuisine)\n",
    "VALUES\n",
    "(1, 1, 'Greek'),\n",
    "(1, 7, 'Greek'),\n",
    "(1, 10, 'Greek'),\n",
    "(1, 13, 'Greek'),\n",
    "(2, 3, 'Italian'),\n",
    "(2, 9, 'Italian'),\n",
    "(2, 12, 'Italian'),\n",
    "(2, 15, 'Italian'),\n",
    "(3, 5, 'Turkish'),\n",
    "(3, 17, 'Turkish'),\n",
    "(3, 11, 'Turkish'),\n",
    "(3, 16, 'Turkish');\"\"\"\n",
    "\n",
    "#*******************************************************#\n",
    "# Insert query to populate \"Bookings\" table:\n",
    "#*******************************************************#\n",
    "insert_bookings=\"\"\"\n",
    "INSERT INTO Bookings (BookingID, TableNo, GuestFirstName, \n",
    "GuestLastName, BookingSlot, EmployeeID)\n",
    "VALUES\n",
    "(1, 12, 'Anna','Iversen','19:00:00',1),\n",
    "(2, 12, 'Joakim', 'Iversen', '19:00:00', 1),\n",
    "(3, 19, 'Vanessa', 'McCarthy', '15:00:00', 3),\n",
    "(4, 15, 'Marcos', 'Romero', '17:30:00', 4),\n",
    "(5, 5, 'Hiroki', 'Yamane', '18:30:00', 2),\n",
    "(6, 8, 'Diana', 'Pinto', '20:00:00', 5);\"\"\"\n",
    "\n",
    "#*******************************************************#\n",
    "# Insert query to populate \"Orders\" table:\n",
    "#*******************************************************#\n",
    "insert_orders=\"\"\"\n",
    "INSERT INTO Orders (OrderID, TableNo, MenuID, BookingID, Quantity, BillAmount)\n",
    "VALUES\n",
    "(1, 12, 1, 1, 2, 86),\n",
    "(2, 19, 2, 2, 1, 37),\n",
    "(3, 15, 2, 3, 1, 37),\n",
    "(4, 5, 3, 4, 1, 40),\n",
    "(5, 8, 1, 5, 1, 43);\"\"\"\n",
    "\n",
    "#*******************************************************#\n",
    "# Insert query to populate \"Employees\" table:\n",
    "#*******************************************************#\n",
    "insert_employees = \"\"\"\n",
    "INSERT INTO employees VALUES(EmployeeID, Name, Role, Address, Contact_Number, Email, Annual_Salary)\n",
    "(01,'Mario Gollini','Manager','724, Parsley Lane, Old Town, Chicago, IL',351258074,'Mario.g@littlelemon.com','$70,000'),\n",
    "(02,'Adrian Gollini','Assistant Manager','334, Dill Square, Lincoln Park, Chicago, IL',351474048,'Adrian.g@littlelemon.com','$65,000'),\n",
    "(03,'Giorgos Dioudis','Head Chef','879 Sage Street, West Loop, Chicago, IL',351970582,'Giorgos.d@littlelemon.com','$50,000'),\n",
    "(04,'Fatma Kaya','Assistant Chef','132  Bay Lane, Chicago, IL',351963569,'Fatma.k@littlelemon.com','$45,000'),\n",
    "(05,'Elena Salvai','Head Waiter','989 Thyme Square, EdgeWater, Chicago, IL',351074198,'Elena.s@littlelemon.com','$40,000'),\n",
    "(06,'John Millar','Receptionist','245 Dill Square, Lincoln Park, Chicago, IL',351584508,'John.m@littlelemon.com','$35,000');\"\"\"\n",
    "\n",
    "#*******************************************************#\n",
    "# Insert query to populate \"Employees\" table:\n",
    "#*******************************************************#\n",
    "\n",
    "insert_employees = \"\"\"\n",
    "INSERT INTO Employees (Name, Role, Address, Contact_Number, Email, Annual_Salary) \n",
    "VALUES \n",
    "('Mario Gollini','Manager','724, Parsley Lane, Old Town, Chicago, IL',351258074,'Mario.g@littlelemon.com','$70,000'),\n",
    "('Adrian Gollini','Assistant Manager','334, Dill Square, Lincoln Park, Chicago, IL',351474048,'Adrian.g@littlelemon.com','$65,000'),\n",
    "('Giorgos Dioudis','Head Chef','879 Sage Street, West Loop, Chicago, IL',351970582,'Giorgos.d@littlelemon.com','$50,000'),\n",
    "('Fatma Kaya','Assistant Chef','132 Bay Lane, Chicago, IL',351963569,'Fatma.k@littlelemon.com','$45,000'),\n",
    "('Elena Salvai','Head Waiter','989 Thyme Square, EdgeWater, Chicago, IL',351074198,'Elena.s@littlelemon.com','$40,000'),\n",
    "('John Millar','Receptionist','245 Dill Square, Lincoln Park, Chicago, IL',351584508,'John.m@littlelemon.com','$35,000');\n",
    "\"\"\""
   ]
  },
  {
   "cell_type": "code",
   "execution_count": 27,
   "id": "695cacfc",
   "metadata": {},
   "outputs": [],
   "source": [
    "# Populate MenuItems table\n",
    "cursor.execute(insert_menuitems)\n",
    "connection.commit()\n",
    "\n",
    "# Populate MenuItems table\n",
    "cursor.execute(insert_menu)\n",
    "connection.commit()\n",
    "\n",
    "# Populate Bookings table\n",
    "cursor.execute(insert_bookings)\n",
    "connection.commit()\n",
    "\n",
    "# Populate Orders table\n",
    "cursor.execute(insert_orders)\n",
    "connection.commit()\n",
    "\n",
    "# Populate Employees table\n",
    "cursor.execute(insert_employees)\n",
    "connection.commit()\n",
    "\n",
    "# Populate Employees table\n",
    "cursor.execute(insert_employees)\n",
    "connection.commit()\n",
    "\n",
    "# Execute the SQL command\n",
    "cursor.execute(insert_employees)\n",
    "\n",
    "# Commit the transaction\n",
    "connection.commit()\n"
   ]
  },
  {
   "cell_type": "code",
   "execution_count": 28,
   "id": "a478d2ae",
   "metadata": {},
   "outputs": [],
   "source": [
    "from mysql.connector.pooling import MySQLConnectionPool\n"
   ]
  },
  {
   "cell_type": "code",
   "execution_count": 29,
   "id": "a6aa6d96",
   "metadata": {},
   "outputs": [],
   "source": [
    "from mysql.connector import Error\n"
   ]
  },
  {
   "cell_type": "code",
   "execution_count": 30,
   "id": "869fa523",
   "metadata": {},
   "outputs": [
    {
     "name": "stdout",
     "output_type": "stream",
     "text": [
      "Connection pool 'pool_a' created successfully.\n"
     ]
    }
   ],
   "source": [
    "# Define your database configuration\n",
    "dbconfig = {\n",
    "    \"database\": \"little_lemon_db\",\n",
    "    \"user\": \"meta_mario\",\n",
    "    \"password\": \"abcd1234\"\n",
    "}\n",
    "\n",
    "try:\n",
    "    # Create a connection pool named 'pool_a' with a pool size of 2\n",
    "    pool_a = MySQLConnectionPool(pool_name=\"pool_a\",\n",
    "                                 pool_size=2,\n",
    "                                 **dbconfig)\n",
    "    \n",
    "    print(\"Connection pool 'pool_a' created successfully.\")\n",
    "\n",
    "except Error as e:\n",
    "    print(f\"Error: {e}\")\n"
   ]
  },
  {
   "cell_type": "code",
   "execution_count": 31,
   "id": "a13a8624",
   "metadata": {},
   "outputs": [
    {
     "name": "stdout",
     "output_type": "stream",
     "text": [
      "Connection obtained and cursor created successfully.\n"
     ]
    }
   ],
   "source": [
    "try:\n",
    "    # Obtain a connection from the pool\n",
    "    connection = pool_a.get_connection()\n",
    "\n",
    "    # Create a cursor object\n",
    "    cursor = connection.cursor()\n",
    "    \n",
    "    print(\"Connection obtained and cursor created successfully.\")\n",
    "\n",
    "except Error as e:\n",
    "    print(f\"Error: {e}\")\n"
   ]
  },
  {
   "cell_type": "code",
   "execution_count": 33,
   "id": "f97717e9",
   "metadata": {},
   "outputs": [
    {
     "name": "stdout",
     "output_type": "stream",
     "text": [
      "Stored procedure PeakHours created successfully.\n"
     ]
    }
   ],
   "source": [
    "try:\n",
    "    # SQL statement to create the stored procedure\n",
    "    create_procedure_query = \"\"\"\n",
    "    CREATE PROCEDURE PeakHours()\n",
    "    BEGIN\n",
    "        SELECT HOUR(BookingSlot) AS booking_hour, \n",
    "               COUNT(*) AS number_of_bookings\n",
    "        FROM Bookings\n",
    "        GROUP BY booking_hour\n",
    "        ORDER BY number_of_bookings DESC;\n",
    "    END;\n",
    "    \"\"\"\n",
    "    \n",
    "    # Execute the SQL query to create the stored procedure\n",
    "    cursor.execute(create_procedure_query)\n",
    "    \n",
    "    print(\"Stored procedure PeakHours created successfully.\")\n",
    "\n",
    "except Error as e:\n",
    "    print(f\"Error: {e}\")\n"
   ]
  },
  {
   "cell_type": "code",
   "execution_count": 34,
   "id": "aa09ff9d",
   "metadata": {},
   "outputs": [
    {
     "name": "stdout",
     "output_type": "stream",
     "text": [
      "Stored procedure PeakHours called successfully.\n"
     ]
    }
   ],
   "source": [
    "try:\n",
    "    # Call the stored procedure PeakHours\n",
    "    cursor.callproc('PeakHours')\n",
    "    print(\"Stored procedure PeakHours called successfully.\")\n",
    "\n",
    "except Error as e:\n",
    "    print(f\"Error: {e}\")\n"
   ]
  },
  {
   "cell_type": "code",
   "execution_count": 35,
   "id": "0089517b",
   "metadata": {},
   "outputs": [],
   "source": [
    "# Fetch the results returned by the stored procedure\n",
    "dataset = cursor.stored_results()\n"
   ]
  },
  {
   "cell_type": "code",
   "execution_count": 36,
   "id": "3f501796",
   "metadata": {},
   "outputs": [],
   "source": [
    "# Assuming we have results to extract column names\n",
    "for result in dataset:\n",
    "    column_names = [i[0] for i in result.description]\n",
    "    break  # We only need the column names once\n"
   ]
  },
  {
   "cell_type": "code",
   "execution_count": 37,
   "id": "4efb404c",
   "metadata": {},
   "outputs": [
    {
     "name": "stdout",
     "output_type": "stream",
     "text": [
      "Column names: ['booking_hour', 'number_of_bookings']\n"
     ]
    }
   ],
   "source": [
    "print(\"Column names:\", column_names)\n"
   ]
  },
  {
   "cell_type": "code",
   "execution_count": 38,
   "id": "b50e7ef0",
   "metadata": {},
   "outputs": [],
   "source": [
    "# Iterate over the dataset to print the results\n",
    "for result in dataset:\n",
    "    rows = result.fetchall()\n",
    "    for row in rows:\n",
    "        print(row)\n"
   ]
  },
  {
   "cell_type": "code",
   "execution_count": 47,
   "id": "96c7fb35",
   "metadata": {},
   "outputs": [
    {
     "name": "stdout",
     "output_type": "stream",
     "text": [
      "Connection pool 'pool_a' created successfully.\n",
      "Connection obtained and cursor created successfully.\n",
      "Existing stored procedure PeakHours dropped successfully.\n",
      "Stored procedure PeakHours created successfully.\n",
      "Stored procedure PeakHours called successfully.\n",
      "Column names: ['booking_hour', 'number_of_bookings']\n"
     ]
    }
   ],
   "source": [
    "from mysql.connector.pooling import MySQLConnectionPool\n",
    "from mysql.connector import Error\n",
    "\n",
    "# Database configuration\n",
    "dbconfig = {\n",
    "    \"database\": \"little_lemon_db\",\n",
    "    \"user\": \"meta_mario\",\n",
    "    \"password\": \"abcd1234\"\n",
    "}\n",
    "\n",
    "try:\n",
    "    # Step 1: Create a connection pool named 'pool_a' with a pool size of 2\n",
    "    pool_a = MySQLConnectionPool(pool_name=\"pool_a\", pool_size=2, **dbconfig)\n",
    "    print(\"Connection pool 'pool_a' created successfully.\")\n",
    "    \n",
    "    # Step 2: Obtain a connection from the pool\n",
    "    connection = pool_a.get_connection()\n",
    "\n",
    "    # Step 3: Create a cursor object\n",
    "    cursor = connection.cursor()\n",
    "    print(\"Connection obtained and cursor created successfully.\")\n",
    "    \n",
    "    # Step 4: Drop the existing stored procedure if it exists\n",
    "    cursor.execute(\"DROP PROCEDURE IF EXISTS PeakHours\")\n",
    "    print(\"Existing stored procedure PeakHours dropped successfully.\")\n",
    "    \n",
    "    # Step 5: Create the stored procedure PeakHours\n",
    "    create_procedure_query = \"\"\"\n",
    "    CREATE PROCEDURE PeakHours()\n",
    "    BEGIN\n",
    "        SELECT HOUR(BookingSlot) AS booking_hour, \n",
    "               COUNT(*) AS number_of_bookings\n",
    "        FROM Bookings\n",
    "        GROUP BY booking_hour\n",
    "        ORDER BY number_of_bookings DESC;\n",
    "    END;\n",
    "    \"\"\"\n",
    "    cursor.execute(create_procedure_query)\n",
    "    print(\"Stored procedure PeakHours created successfully.\")\n",
    "    \n",
    "    # Step 6: Call the stored procedure PeakHours\n",
    "    cursor.callproc('PeakHours')\n",
    "    print(\"Stored procedure PeakHours called successfully.\")\n",
    "    \n",
    "    # Step 7: Fetch the results returned by the stored procedure\n",
    "    dataset = cursor.stored_results()\n",
    "    \n",
    "    # Step 8: Extract and print the column names\n",
    "    for result in dataset:\n",
    "        column_names = [i[0] for i in result.description]\n",
    "        print(\"Column names:\", column_names)\n",
    "        break  # We only need the column names once\n",
    "    \n",
    "    # Step 9: Print the sorted data\n",
    "    for result in dataset:\n",
    "        rows = result.fetchall()\n",
    "        for row in rows:\n",
    "            print(row)\n",
    "            \n",
    "except Error as e:\n",
    "    print(f\"Error: {e}\")\n",
    "\n",
    "finally:\n",
    "    # Step 10: Close the cursor and connection\n",
    "    if cursor:\n",
    "        cursor.close()\n",
    "    if connection:\n",
    "        connection.close()\n"
   ]
  },
  {
   "cell_type": "code",
   "execution_count": 48,
   "id": "bef31180",
   "metadata": {},
   "outputs": [],
   "source": [
    "# Print the sorted data\n",
    "for result in dataset:\n",
    "    rows = result.fetchall()\n",
    "    for row in rows:\n",
    "        print(row)\n"
   ]
  },
  {
   "cell_type": "code",
   "execution_count": 54,
   "id": "6239367b",
   "metadata": {},
   "outputs": [
    {
     "name": "stdout",
     "output_type": "stream",
     "text": [
      "Connection pool 'pool_a' created successfully.\n",
      "Connection obtained and cursor created successfully.\n",
      "Error: 1304 (42000): PROCEDURE GuestStatus already exists\n",
      "Connection closed and returned to pool.\n"
     ]
    }
   ],
   "source": [
    "from mysql.connector.pooling import MySQLConnectionPool\n",
    "from mysql.connector import Error\n",
    "\n",
    "# Database configuration\n",
    "dbconfig = {\n",
    "    \"database\": \"little_lemon_db\",\n",
    "    \"user\": \"meta_mario\",\n",
    "    \"password\": \"abcd1234\"\n",
    "}\n",
    "\n",
    "try:\n",
    "    # Step 1: Create a connection pool named 'pool_a' with a pool size of 2\n",
    "    pool_a = MySQLConnectionPool(pool_name=\"pool_a\", pool_size=2, **dbconfig)\n",
    "    print(\"Connection pool 'pool_a' created successfully.\")\n",
    "    \n",
    "    # Step 2: Obtain a connection from the pool\n",
    "    connection = pool_a.get_connection()\n",
    "\n",
    "    # Step 3: Create a cursor object\n",
    "    cursor = connection.cursor()\n",
    "    print(\"Connection obtained and cursor created successfully.\")\n",
    "    \n",
    "    # Step 4: Create the stored procedure GuestStatus\n",
    "    create_procedure_query = \"\"\"\n",
    "    CREATE PROCEDURE GuestStatus()\n",
    "    BEGIN\n",
    "        SELECT \n",
    "            CONCAT(Booking.FirstName, ' ', Booking.LastName) AS guest_name,\n",
    "            CASE \n",
    "                WHEN Employees.Role IN ('Manager', 'Assistant Manager') THEN 'Ready to pay'\n",
    "                WHEN Employees.Role = 'Head Chef' THEN 'Ready to serve'\n",
    "                WHEN Employees.Role = 'Assistant Chef' THEN 'Preparing Order'\n",
    "                WHEN Employees.Role = 'Head Waiter' THEN 'Order served'\n",
    "                ELSE 'Status Unknown'\n",
    "            END AS order_status\n",
    "        FROM \n",
    "            Bookings\n",
    "        LEFT JOIN \n",
    "            Employees ON Bookings.EmployeeID = Employees.EmployeeID;\n",
    "    END;\n",
    "    \"\"\"\n",
    "    \n",
    "    # Execute the SQL query to create the stored procedure\n",
    "    cursor.execute(create_procedure_query)\n",
    "    print(\"Stored procedure GuestStatus created successfully.\")\n",
    "    \n",
    "    # Step 5: Call the stored procedure GuestStatus\n",
    "    cursor.callproc('GuestStatus')\n",
    "    print(\"Stored procedure GuestStatus called successfully.\")\n",
    "    \n",
    "    # Step 6: Fetch the results returned by the stored procedure\n",
    "    dataset = cursor.stored_results()\n",
    "    \n",
    "    # Step 7: Extract and print the column names\n",
    "    for result in dataset:\n",
    "        column_names = [i[0] for i in result.description]\n",
    "        print(\"Column names:\", column_names)\n",
    "        break  # We only need the column names once\n",
    "    \n",
    "    # Step 8: Print the sorted data\n",
    "    for result in dataset:\n",
    "        rows = result.fetchall()\n",
    "        for row in rows:\n",
    "            print(row)\n",
    "            \n",
    "except Error as e:\n",
    "    print(f\"Error: {e}\")\n",
    "\n",
    "finally:\n",
    "    # Step 9: Close the cursor and connection\n",
    "    if cursor:\n",
    "        cursor.close()\n",
    "    if connection:\n",
    "        connection.close()\n",
    "    print(\"Connection closed and returned to pool.\")\n"
   ]
  },
  {
   "cell_type": "code",
   "execution_count": 55,
   "id": "3cb77c4d",
   "metadata": {},
   "outputs": [
    {
     "name": "stdout",
     "output_type": "stream",
     "text": [
      "Connection pool 'pool_a' created successfully.\n",
      "Connection obtained and cursor created successfully.\n",
      "Existing stored procedure GuestStatus dropped successfully.\n",
      "Stored procedure GuestStatus created successfully.\n",
      "Stored procedure GuestStatus called successfully.\n",
      "Column names: ['guest_name', 'order_status']\n",
      "Connection closed and returned to pool.\n"
     ]
    }
   ],
   "source": [
    "from mysql.connector.pooling import MySQLConnectionPool\n",
    "from mysql.connector import Error\n",
    "\n",
    "# Database configuration\n",
    "dbconfig = {\n",
    "    \"database\": \"little_lemon_db\",\n",
    "    \"user\": \"meta_mario\",\n",
    "    \"password\": \"abcd1234\"\n",
    "}\n",
    "\n",
    "try:\n",
    "    # Create a connection pool named 'pool_a' with a pool size of 2\n",
    "    pool_a = MySQLConnectionPool(pool_name=\"pool_a\", pool_size=2, **dbconfig)\n",
    "    print(\"Connection pool 'pool_a' created successfully.\")\n",
    "    \n",
    "    # Obtain a connection from the pool\n",
    "    connection = pool_a.get_connection()\n",
    "\n",
    "    # Create a cursor object\n",
    "    cursor = connection.cursor()\n",
    "    print(\"Connection obtained and cursor created successfully.\")\n",
    "    \n",
    "    # Drop the existing stored procedure if it exists\n",
    "    cursor.execute(\"DROP PROCEDURE IF EXISTS GuestStatus\")\n",
    "    print(\"Existing stored procedure GuestStatus dropped successfully.\")\n",
    "    \n",
    "    # Create the stored procedure GuestStatus with corrected column names\n",
    "    create_procedure_query = \"\"\"\n",
    "    CREATE PROCEDURE GuestStatus()\n",
    "    BEGIN\n",
    "        SELECT \n",
    "            CONCAT(Bookings.GuestFirstName, ' ', Bookings.GuestLastName) AS guest_name,\n",
    "            CASE \n",
    "                WHEN Employees.Role IN ('Manager', 'Assistant Manager') THEN 'Ready to pay'\n",
    "                WHEN Employees.Role = 'Head Chef' THEN 'Ready to serve'\n",
    "                WHEN Employees.Role = 'Assistant Chef' THEN 'Preparing Order'\n",
    "                WHEN Employees.Role = 'Head Waiter' THEN 'Order served'\n",
    "                ELSE 'Status Unknown'\n",
    "            END AS order_status\n",
    "        FROM \n",
    "            Bookings\n",
    "        LEFT JOIN \n",
    "            Employees ON Bookings.EmployeeID = Employees.EmployeeID;\n",
    "    END;\n",
    "    \"\"\"\n",
    "    \n",
    "    # Execute the SQL query to create the stored procedure\n",
    "    cursor.execute(create_procedure_query)\n",
    "    print(\"Stored procedure GuestStatus created successfully.\")\n",
    "    \n",
    "    # Call the stored procedure GuestStatus\n",
    "    cursor.callproc('GuestStatus')\n",
    "    print(\"Stored procedure GuestStatus called successfully.\")\n",
    "    \n",
    "    # Fetch the results returned by the stored procedure\n",
    "    dataset = cursor.stored_results()\n",
    "    \n",
    "    # Extract and print the column names\n",
    "    for result in dataset:\n",
    "        column_names = [i[0] for i in result.description]\n",
    "        print(\"Column names:\", column_names)\n",
    "        break  # We only need the column names once\n",
    "    \n",
    "    # Print the sorted data\n",
    "    for result in dataset:\n",
    "        rows = result.fetchall()\n",
    "        for row in rows:\n",
    "            print(row)\n",
    "            \n",
    "except Error as e:\n",
    "    print(f\"Error: {e}\")\n",
    "\n",
    "finally:\n",
    "    # Close the cursor and connection\n",
    "    if cursor:\n",
    "        cursor.close()\n",
    "    if connection:\n",
    "        connection.close()\n",
    "    print(\"Connection closed and returned to pool.\")\n"
   ]
  },
  {
   "cell_type": "code",
   "execution_count": 59,
   "id": "75bc3ef8",
   "metadata": {},
   "outputs": [
    {
     "name": "stdout",
     "output_type": "stream",
     "text": [
      "Connection pool 'pool_b' created successfully.\n"
     ]
    }
   ],
   "source": [
    "from mysql.connector.pooling import MySQLConnectionPool\n",
    "from mysql.connector import Error\n",
    "\n",
    "# Step 1: Define your database configurations as a Python dictionary\n",
    "dbconfig = {\n",
    "    \"database\": \"little_lemon_db\",\n",
    "    \"user\": \"meta_mario\",\n",
    "    \"password\": \"abcd1234\"\n",
    "}\n",
    "\n",
    "try:\n",
    "    # Step 2: Establish a connection pool [pool_name = pool_b] with two connections\n",
    "    pool_b = MySQLConnectionPool(pool_name=\"pool_b\", pool_size=2, **dbconfig)\n",
    "    print(\"Connection pool 'pool_b' created successfully.\")\n",
    "\n",
    "except Error as e:\n",
    "    print(f\"Error: {e}\")\n"
   ]
  },
  {
   "cell_type": "code",
   "execution_count": null,
   "id": "99157d04",
   "metadata": {},
   "outputs": [],
   "source": []
  },
  {
   "cell_type": "code",
   "execution_count": null,
   "id": "03cdae2d",
   "metadata": {},
   "outputs": [],
   "source": []
  }
 ],
 "metadata": {
  "kernelspec": {
   "display_name": "Python 3 (ipykernel)",
   "language": "python",
   "name": "python3"
  },
  "language_info": {
   "codemirror_mode": {
    "name": "ipython",
    "version": 3
   },
   "file_extension": ".py",
   "mimetype": "text/x-python",
   "name": "python",
   "nbconvert_exporter": "python",
   "pygments_lexer": "ipython3",
   "version": "3.11.7"
  }
 },
 "nbformat": 4,
 "nbformat_minor": 5
}
